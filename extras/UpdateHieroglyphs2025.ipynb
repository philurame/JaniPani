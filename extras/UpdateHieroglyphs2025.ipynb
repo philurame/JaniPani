{
 "cells": [
  {
   "cell_type": "markdown",
   "metadata": {},
   "source": [
    "# Parse"
   ]
  },
  {
   "cell_type": "code",
   "execution_count": null,
   "metadata": {},
   "outputs": [],
   "source": [
    "from bs4 import BeautifulSoup\n",
    "import urllib, tqdm, json, pickle\n",
    "\n",
    "from extras.utils import *\n",
    "db = load_hieroglyphDB_from_json('HieroglyphDB.json')\n",
    "\n",
    "voc_dict = {}\n",
    "\n",
    "BADVOCS = []\n",
    "\n",
    "for lvl in range(1,61):\n",
    "  voc_lvl = [i for i in db if i.level==lvl and i.hieroglyph_type==HieroglyphType.VOCAB]\n",
    "\n",
    "  for voc in tqdm.tqdm(voc_lvl):\n",
    "    if voc.resource_paths.wanikani_link in voc_dict:\n",
    "      continue\n",
    "    elems = BeautifulSoup(urllib.request.urlopen(voc.resource_paths.wanikani_link, timeout = 120)).find_all('a', class_=\"subject-character subject-character--kanji subject-character--grid subject-character--unlocked\")\n",
    "    hrefs = [element['href'] for element in elems if 'href' in element.attrs]\n",
    "    if not hrefs:\n",
    "      BADVOCS.append(voc)\n",
    "      print(voc.resource_paths.wanikani_link)\n",
    "    voc_dict[voc.resource_paths.wanikani_link] = hrefs\n",
    "  \n",
    "  print(f'\\nlvl {lvl} Done\\n')\n",
    "\n",
    "  with open('voc.json', 'w') as f:\n",
    "    json.dump(voc_dict, f)\n",
    "  with open('badvocs.pkl', 'wb') as f:\n",
    "    pickle.dump(BADVOCS, f)"
   ]
  },
  {
   "cell_type": "code",
   "execution_count": null,
   "metadata": {},
   "outputs": [],
   "source": [
    "from bs4 import BeautifulSoup\n",
    "import urllib, tqdm, json, pickle\n",
    "\n",
    "from extras.utils import *\n",
    "db = load_hieroglyphDB_from_json('HieroglyphDB1.json')\n",
    "\n",
    "with open('voc.json', 'r') as f:\n",
    "  voc_dict = json.load(f)\n",
    "\n",
    "with open('kan.json', 'r') as f:\n",
    "  kan_dict = json.load(f)\n",
    "\n",
    "with open('badvocs.pkl', 'rb') as f:\n",
    "  badvocs = pickle.load(f)"
   ]
  },
  {
   "cell_type": "code",
   "execution_count": 4,
   "metadata": {},
   "outputs": [],
   "source": [
    "# MOST IMPORTANT FIX\n",
    "[i for i in db if i.symbol=='湯気'][0].mnemonics.reading = '''You’re getting all hot and sweaty, but the feeling makes you incredibly happy and gay (げ). Then someone asks, as they look at you in the steam: “Hey, you gay?” (ゆげ). You answer however you want to answer.'''"
   ]
  },
  {
   "cell_type": "markdown",
   "metadata": {},
   "source": [
    "# KANJI FIX"
   ]
  },
  {
   "cell_type": "code",
   "execution_count": 132,
   "metadata": {},
   "outputs": [],
   "source": [
    "new_kanji = Hieroglyph(\n",
    "  symbol='脈',\n",
    "  level=31,\n",
    "  hieroglyph_type=HieroglyphType.KANJI,\n",
    "  meanings=['vein'],\n",
    "  readings=Reading(\n",
    "    onyomi=['みゃく'],\n",
    "  ),\n",
    "  mnemonics=Mnemonics(\n",
    "    meaning=\"Under the moon while you sit on a cliff, you inject a syringe of tofu right into your vein. Ahh, tofu. You're addicted to it. You sneak out to the cliff at night to get your tofu fix, injecting it straight into your vein. Feel the tofu running through your veins. Feel the tofu goodness spreading all over your body. It's so intense you can even taste a little tofu in your mouth.\",\n",
    "    reading='''Eventually, your friends and family find you at the cliff, tripping on tofu. Each and every vein on your body is engorged, pulsating with the effects of tofu. Your friends try and take you home. \"You cyan't myake (みゃく) me!\" you slur, suffering from the effects of the tofu. \"None of you cyan myake me go home! You cyan’t myake me! Nyah!\" Say this out loud, it'll help you remember. Really focus on the \"myake\" be sure to say it like you're all bugged out from tofu overdose.'''\n",
    "  ),\n",
    "  resource_paths=ResourcePaths(\n",
    "    wanikani_link='http://www.wanikani.com/kanji/%E8%84%88',\n",
    "  )\n",
    ")\n",
    "\n",
    "kan_dict['http://www.wanikani.com/kanji/%E8%84%88'] = ['https://www.wanikani.com/radicals/moon', 'https://www.wanikani.com/radicals/cliff', 'https://www.wanikani.com/radicals/tofu']\n",
    "\n",
    "ixdx_where = [n for n, i in enumerate(db) if i.level==31 and i.symbol=='菜'][0]+1\n",
    "db.hieroglyphs = db.hieroglyphs[:ixdx_where] + [new_kanji] + db.hieroglyphs[ixdx_where:]\n",
    "\n",
    "for lvl in range(1,61):\n",
    "  voc_lvl = [i for i in db if i.level==lvl and i.hieroglyph_type==HieroglyphType.VOCAB]\n",
    "  kan_prev = [i.resource_paths.wanikani_link.split('.com')[1] for i in db if i.level<=lvl and i.hieroglyph_type==HieroglyphType.KANJI]\n",
    "  c = 0\n",
    "  for voc in voc_lvl:\n",
    "    l = voc.resource_paths.wanikani_link\n",
    "    kanjis = voc_dict[l]\n",
    "    for k in kanjis:\n",
    "      assert k.split('.com')[1] in kan_prev"
   ]
  },
  {
   "cell_type": "code",
   "execution_count": 133,
   "metadata": {},
   "outputs": [],
   "source": [
    "# center fix\n",
    "rad_ = db[[n for n, i in enumerate(db) if i.level==13 and i.symbol=='央'][0]]\n",
    "kan_ = db[[n for n, i in enumerate(db) if i.level==4 and i.symbol=='央'][0]]\n",
    "\n",
    "rad_.mnemonics.meaning = kan_.mnemonics.meaning\n",
    "kan_.mnemonics.meaning = 'The radical for center and the kanji for center are exactly the same. That means if you know your radicals well, you know the meaning of this kanji as well! How swell.'\n",
    "rad_.level = 4\n",
    "\n",
    "idx_where = [n for n, i in enumerate(db) if i.level==4 and i.symbol=='車' and i.hieroglyph_type==HieroglyphType.RADICAL][0]+1\n",
    "idx_from  = [n for n, i in enumerate(db) if i.symbol=='央' and i.hieroglyph_type==HieroglyphType.RADICAL][0]\n",
    "\n",
    "db.hieroglyphs.insert(idx_where, db.hieroglyphs.pop(idx_from))"
   ]
  },
  {
   "cell_type": "code",
   "execution_count": 134,
   "metadata": {},
   "outputs": [],
   "source": [
    "# man fix\n",
    "rad_ = db[[n for n, i in enumerate(db) if i.level==15 and i.symbol=='男'][0]]\n",
    "kan_ = db[[n for n, i in enumerate(db) if i.level==4 and i.symbol=='男'][0]]\n",
    "\n",
    "rad_.mnemonics.meaning = kan_.mnemonics.meaning\n",
    "kan_.mnemonics.meaning = 'The radical for man and the kanji for man are exactly the same. That means if you know your radicals well, you know the meaning of this kanji too! Man, kanji are easy sometimes.'\n",
    "rad_.level = 4\n",
    "\n",
    "idx_where = [n for n, i in enumerate(db) if i.level==4 and i.symbol=='彳' and i.hieroglyph_type==HieroglyphType.RADICAL][0]+1\n",
    "idx_from  = [n for n, i in enumerate(db) if i.symbol=='男' and i.hieroglyph_type==HieroglyphType.RADICAL][0]\n",
    "\n",
    "db.hieroglyphs.insert(idx_where, db.hieroglyphs.pop(idx_from))"
   ]
  },
  {
   "cell_type": "code",
   "execution_count": 135,
   "metadata": {},
   "outputs": [],
   "source": [
    "# house fix\n",
    "idx_from  = [n for n, i in enumerate(db) if i.symbol=='家' and i.hieroglyph_type==HieroglyphType.RADICAL][0]\n",
    "\n",
    "rad_ = db[idx_from]\n",
    "kan_ = db[[n for n, i in enumerate(db) if i.symbol=='家' and i.hieroglyph_type==HieroglyphType.KANJI][0]]\n",
    "\n",
    "rad_.mnemonics.meaning = kan_.mnemonics.meaning\n",
    "kan_.mnemonics.meaning = '''The house radical makes up the house kanji! Pretty easy. This kanji is also used to mean home, so try to remember that too. I guess not all houses are homes, and not all homes are houses. But there's a pretty big overlap, right? And in most situations, this kanji's got you covered.'''\n",
    "rad_.level = 6\n",
    "\n",
    "idx_where = [n for n, i in enumerate(db) if i.symbol=='禾' and i.hieroglyph_type==HieroglyphType.RADICAL][0]+1\n",
    "db.hieroglyphs.insert(idx_where, db.hieroglyphs.pop(idx_from))"
   ]
  },
  {
   "cell_type": "code",
   "execution_count": 136,
   "metadata": {},
   "outputs": [],
   "source": [
    "# genius/talent fix\n",
    "db[[n for n, i in enumerate(db) if i.symbol=='才' and i.hieroglyph_type==HieroglyphType.RADICAL][0]].resource_paths.wanikani_link = 'https://www.wanikani.com/radicals/talent'"
   ]
  },
  {
   "cell_type": "code",
   "execution_count": 137,
   "metadata": {},
   "outputs": [],
   "source": [
    "# courage fix\n",
    "idx_from  = [n for n, i in enumerate(db) if i.symbol=='勇' and i.hieroglyph_type==HieroglyphType.RADICAL][0]\n",
    "\n",
    "rad_ = db[idx_from]\n",
    "kan_ = db[[n for n, i in enumerate(db) if i.symbol=='勇' and i.hieroglyph_type==HieroglyphType.KANJI][0]]\n",
    "\n",
    "rad_.mnemonics.meaning = kan_.mnemonics.meaning\n",
    "kan_.mnemonics.meaning = '''The radical for courage and the kanji for courage are exactly the same. That means if you know your radicals well, you know the meaning of this kanji too!'''\n",
    "rad_.level = 15\n",
    "\n",
    "idx_where = [n for n, i in enumerate(db) if i.symbol=='𭕄' and i.hieroglyph_type==HieroglyphType.RADICAL][0]-1\n",
    "db.hieroglyphs.insert(idx_where, db.hieroglyphs.pop(idx_from))"
   ]
  },
  {
   "cell_type": "code",
   "execution_count": 138,
   "metadata": {},
   "outputs": [],
   "source": [
    "new_rad = Hieroglyph(\n",
    "  symbol='片',\n",
    "  level=30, \n",
    "  hieroglyph_type=HieroglyphType.RADICAL,\n",
    "  meanings=['One Sided'],\n",
    "  mnemonics=Mnemonics(\n",
    "    meaning='''This looks a bit like a waiter walking toward you with a platter in their hands... but wait. It's only half of a waiter. It's a one sided waiter!''',\n",
    "  ),\n",
    "  resource_paths=ResourcePaths(\n",
    "    wanikani_link='https://www.wanikani.com/radicals/one-sided',\n",
    "  )\n",
    ")\n",
    "\n",
    "idx_where = [n for n, i in enumerate(db) if i.meanings[0]=='hills' and i.hieroglyph_type==HieroglyphType.RADICAL][0]+1\n",
    "\n",
    "db.hieroglyphs.insert(idx_where, new_rad)"
   ]
  },
  {
   "cell_type": "code",
   "execution_count": 139,
   "metadata": {},
   "outputs": [],
   "source": [
    "new_rad = Hieroglyph(\n",
    "  symbol='系',\n",
    "  level=30, \n",
    "  hieroglyph_type=HieroglyphType.RADICAL,\n",
    "  meanings=['Lineage'],\n",
    "  mnemonics=Mnemonics(\n",
    "    meaning='''A thread goes through the ground. It traces your lineage. You follow the thread all the way back through many generations, to find out your lineage involves Genghis Khan. Feel the thread and the dirt in your hand and actually trace the lineage.''',\n",
    "  ),\n",
    "  resource_paths=ResourcePaths(\n",
    "    wanikani_link='https://www.wanikani.com/radicals/lineage',\n",
    "  )\n",
    ")\n",
    "\n",
    "idx_where = [n for n, i in enumerate(db) if i.meanings[0]=='hills' and i.hieroglyph_type==HieroglyphType.RADICAL][0]+1\n",
    "\n",
    "db.hieroglyphs.insert(idx_where, new_rad)"
   ]
  },
  {
   "cell_type": "code",
   "execution_count": 140,
   "metadata": {},
   "outputs": [],
   "source": [
    "new_rad = Hieroglyph(\n",
    "  symbol='冘',\n",
    "  level=30, \n",
    "  hieroglyph_type=HieroglyphType.RADICAL,\n",
    "  meanings=['Pirate'],\n",
    "  mnemonics=Mnemonics(\n",
    "    meaning='''This kind of looks like big (大), which I think you'll remember you learned by pretending this was a big guy. This big guy, however, has a funny leg... a peg leg. That makes him a pirate. Also, his arms are in the \"YARRRR\" position.''',\n",
    "  ),\n",
    "  resource_paths=ResourcePaths(\n",
    "    wanikani_link='https://www.wanikani.com/radicals/pirate',\n",
    "  )\n",
    ")\n",
    "\n",
    "idx_where = [n for n, i in enumerate(db) if i.symbol=='系' and i.hieroglyph_type==HieroglyphType.RADICAL][0]+1\n",
    "\n",
    "db.hieroglyphs.insert(idx_where, new_rad)"
   ]
  },
  {
   "cell_type": "code",
   "execution_count": 141,
   "metadata": {},
   "outputs": [],
   "source": [
    "new_rad = Hieroglyph(\n",
    "  symbol='甲',\n",
    "  level=30, \n",
    "  hieroglyph_type=HieroglyphType.RADICAL,\n",
    "  meanings=['Turtle Shell'],\n",
    "  mnemonics=Mnemonics(\n",
    "    meaning='''Poor turtles. We don't like them here. This is a turtle shell. See the shell with just a tail remaining? It's the only thing we didn't remove off the turtle. It's just a shell with a tail, so basically it's just a turtle shell.''',\n",
    "  ),\n",
    "  resource_paths=ResourcePaths(\n",
    "    wanikani_link='https://www.wanikani.com/radicals/turtle-shell',\n",
    "  )\n",
    ")\n",
    "\n",
    "idx_where = [n for n, i in enumerate(db) if i.symbol=='冘' and i.hieroglyph_type==HieroglyphType.RADICAL][0]+1\n",
    "\n",
    "db.hieroglyphs.insert(idx_where, new_rad)"
   ]
  },
  {
   "cell_type": "code",
   "execution_count": 142,
   "metadata": {},
   "outputs": [],
   "source": [
    "# fix stiff\n",
    "db[[n for n, i in enumerate(db) if i.symbol=='硬' and i.hieroglyph_type==HieroglyphType.KANJI][0]].mnemonics.meaning = 'You feel like a stone that’s been renewed. How do renewed stones feel? Stiff. Very stiff. Think of a stone being renewed like it is having something like a spa day. Pedicure, manicure, the whole shebang. It’ll come out all stiff and hardened, cause that’s how good stones are.'"
   ]
  },
  {
   "cell_type": "code",
   "execution_count": 143,
   "metadata": {},
   "outputs": [],
   "source": [
    "# 3\n",
    "kan_dict['http://wanikani.com/kanji/%E6%AF%8D'] = ['https://wanikani.com/radicals/sun', 'https://wanikani.com/radicals/drop'] # mom\n",
    "kan_dict['http://wanikani.com/kanji/%E5%8C%97'] = ['https://wanikani.com/radicals/fingers', 'https://wanikani.com/radicals/spoon'] # north\n",
    "kan_dict['http://wanikani.com/kanji/%E5%86%AC'] = ['https://wanikani.com/radicals/winter', 'http://wanikani.com/radicals/two'] # winter\n",
    "\n",
    "# 5\n",
    "kan_dict['http://wanikani.com/kanji/%E7%A9%BA'] = ['https://wanikani.com/radicals/roof', 'https://wanikani.com/radicals/legs', 'https://wanikani.com/radicals/construction'] # sky\n",
    "\n",
    "# 14\n",
    "\n",
    "# 15\n",
    "kan_dict['http://wanikani.com/kanji/%E5%A4%89'] = ['https://wanikani.com/radicals/winter', 'https://wanikani.com/radicals/red'] # change\n",
    "\n",
    "# 17\n",
    "kan_dict['http://wanikani.com/kanji/%E6%81%8B'] = ['https://wanikani.com/radicals/red', 'https://wanikani.com/radicals/heart'] # romance\n",
    "\n",
    "# 30!\n",
    "kan_dict['http://wanikani.com/kanji/%E8%83%8C'] = ['https://wanikani.com/kanji/%E5%8C%97', 'https://wanikani.com/radicals/moon'] # back\n",
    "\n",
    "# 31\n",
    "kan_dict['http://wanikani.com/kanji/%E7%86%9F'] = ['https://www.wanikani.com/radicals/sock', 'https://www.wanikani.com/radicals/circle', 'https://www.wanikani.com/radicals/boil'] # ripen\n",
    "kan_dict['http://wanikani.com/kanji/%E6%B9%BE'] = ['https://www.wanikani.com/radicals/tsunami', 'https://www.wanikani.com/radicals/red', 'https://www.wanikani.com/radicals/bow'] # gulf\n",
    "kan_dict['http://wanikani.com/kanji/%E8%B7%A1'] = ['https://www.wanikani.com/radicals/foot', 'https://www.wanikani.com/radicals/red'] # traces\n",
    "kan_dict['http://wanikani.com/kanji/%E9%91%91'] = ['https://www.wanikani.com/radicals/gold', 'https://wanikani.com/kanji/%E7%9B%A3'] # Model\n",
    "\n",
    "# 41!\n",
    "kan_dict['http://wanikani.com/kanji/%E8%89%A6'] = ['https://www.wanikani.com/radicals/boat', 'https://wanikani.com/kanji/%E7%9B%A3'] # warship\n",
    "\n",
    "# 45 \n",
    "kan_dict['http://wanikani.com/kanji/%E5%A1%BE'] = ['https://www.wanikani.com/radicals/sock', 'https://www.wanikani.com/radicals/circle', 'https://www.wanikani.com/radicals/dirt']\n",
    "# !\n",
    "kan_dict['http://wanikani.com/kanji/%E7%A1%AC'] = ['https://www.wanikani.com/radicals/stone', 'http://wanikani.com/kanji/%E6%9B%B4']\n",
    "\n",
    "kan_dict['http://wanikani.com/kanji/%E9%83%AD'] = ['https://www.wanikani.com/radicals/sock', 'https://www.wanikani.com/radicals/building']\n",
    "\n",
    "kan_dict['http://wanikani.com/kanji/%E4%BA%AB'] = ['https://www.wanikani.com/radicals/sock']\n",
    "\n",
    "kan_dict['http://wanikani.com/kanji/%E8%97%8D'] = ['https://www.wanikani.com/radicals/flowers', 'http://wanikani.com/kanji/%E7%9B%A3']\n"
   ]
  },
  {
   "cell_type": "code",
   "execution_count": 144,
   "metadata": {},
   "outputs": [],
   "source": [
    "# FINALLY ADD RADICALS\n",
    "for lvl in range(1,61):\n",
    "  kan_lvl  = [i for i in db if i.level==lvl and i.hieroglyph_type==HieroglyphType.KANJI]\n",
    "  rad_prev = [i.resource_paths.wanikani_link.split('.com')[1] for i in db if i.level<=lvl and i.hieroglyph_type!=HieroglyphType.VOCAB]\n",
    "  for kan in kan_lvl:\n",
    "    l = kan.resource_paths.wanikani_link\n",
    "    rads = kan_dict[l]\n",
    "    for r in rads:\n",
    "      assert r.split('.com')[1] in rad_prev\n",
    "    kan.resource_paths.radical_links = rads"
   ]
  },
  {
   "cell_type": "markdown",
   "metadata": {},
   "source": [
    "# VOC FIX"
   ]
  },
  {
   "cell_type": "code",
   "execution_count": 73,
   "metadata": {},
   "outputs": [
    {
     "data": {
      "text/plain": [
       "['%E4%B8%96%E8%BE%9E',\n",
       " '%E6%A2%85%E5%B9%B2',\n",
       " '%E5%AE%85',\n",
       " '%E8%8F%93%E5%AD%90%E5%B1%8B',\n",
       " '%E3%80%9C%E5%88%B8',\n",
       " '%E8%B2%B8%E3%81%97',\n",
       " '%E8%BE%BC%E3%82%80',\n",
       " '%E9%A3%9B%E3%81%B3%E8%BE%BC%E3%81%BF%E8%87%AA%E6%AE%BA',\n",
       " '%E3%80%9C%E7%95%91',\n",
       " '%E7%8F%8D',\n",
       " '%E5%A6%83',\n",
       " '%E8%BB%92%E4%B8%A6']"
      ]
     },
     "execution_count": 73,
     "metadata": {},
     "output_type": "execute_result"
    }
   ],
   "source": [
    "[i.split('/')[-1] for i in badvocs]"
   ]
  },
  {
   "cell_type": "code",
   "execution_count": 145,
   "metadata": {},
   "outputs": [],
   "source": [
    "d = []\n",
    "for lvl in range(1,61):\n",
    "  voc_lvl = [i for i in db if i.level==lvl and i.hieroglyph_type==HieroglyphType.VOCAB]\n",
    "  kan_prev = [i.resource_paths.wanikani_link.split('.com')[1] for i in db if i.level<=lvl and i.hieroglyph_type==HieroglyphType.KANJI]\n",
    "  for voc in voc_lvl:\n",
    "    l = voc.resource_paths.wanikani_link\n",
    "    kans = voc_dict[l]\n",
    "    for k in kans:\n",
    "      assert k.split('.com')[1] in kan_prev\n",
    "    voc.resource_paths.kanji_links = kans"
   ]
  },
  {
   "cell_type": "code",
   "execution_count": null,
   "metadata": {},
   "outputs": [],
   "source": [
    "Ls = [['http://wanikani.com/kanji/%E4%B8%96',\n",
    "  'http://wanikani.com/kanji/%E8%BE%9E'],\n",
    " ['http://wanikani.com/kanji/%E6%A2%85',\n",
    "  'http://wanikani.com/kanji/%E5%B9%B2'],\n",
    " ['http://wanikani.com/kanji/%E5%AE%85'],\n",
    " ['http://wanikani.com/kanji/%E8%8F%93',\n",
    "  'http://wanikani.com/kanji/%E5%AD%90',\n",
    "  'http://wanikani.com/kanji/%E5%B1%8B'],\n",
    " ['http://wanikani.com/kanji/%E5%88%B8'],\n",
    " ['http://wanikani.com/kanji/%E8%B2%B8'],\n",
    " ['http://wanikani.com/kanji/%E8%BE%BC'],\n",
    " ['http://wanikani.com/kanji/%E9%A3%9B',\n",
    "  'http://wanikani.com/kanji/%E8%BE%BC',\n",
    "  'http://wanikani.com/kanji/%E8%87%AA',\n",
    "  'http://wanikani.com/kanji/%E6%AE%BA'],\n",
    " ['http://wanikani.com/kanji/%E7%95%91'],\n",
    " ['http://wanikani.com/kanji/%E7%8F%8D'],\n",
    " ['http://wanikani.com/kanji/%E5%A6%83'],\n",
    " ['http://wanikani.com/kanji/%E8%BB%92',\n",
    "  'http://wanikani.com/kanji/%E4%B8%A6']]\n",
    "\n",
    "for I in range(len(badvocs)):\n",
    "  h = [i for i in db if i.resource_paths.wanikani_link == badvocs[I]][0]\n",
    "  h.resource_paths.kanji_links = Ls[I]"
   ]
  },
  {
   "cell_type": "markdown",
   "metadata": {},
   "source": [
    "# SAVE"
   ]
  },
  {
   "cell_type": "code",
   "execution_count": null,
   "metadata": {},
   "outputs": [],
   "source": [
    "for d in db:\n",
    "  d.resource_paths.wanikani_link = d.resource_paths.wanikani_link.replace('https', 'http').replace('http://www.wanikani.com', 'http://wanikani.com')\n",
    "db_links = set([i.resource_paths.wanikani_link for i in db])\n",
    "\n",
    "for d in db:\n",
    "  d.resource_paths.wanikani_link = d.resource_paths.wanikani_link.replace('https', 'http').replace('http://www.wanikani.com', 'http://wanikani.com')\n",
    "  d.resource_paths.kanji_links = [i.replace('https://www.wanikani.com/', 'http://wanikani.com/').replace('https', 'http') for i in d.resource_paths.kanji_links]\n",
    "  d.resource_paths.radical_links = [i.replace('https://www.wanikani.com/', 'http://wanikani.com/').replace('https', 'http') for i in d.resource_paths.radical_links]\n",
    "  for i in d.resource_paths.kanji_links:\n",
    "    assert i in db_links\n",
    "  for i in d.resource_paths.radical_links:\n",
    "    assert i in db_links"
   ]
  },
  {
   "cell_type": "code",
   "execution_count": 10,
   "metadata": {},
   "outputs": [
    {
     "name": "stdout",
     "output_type": "stream",
     "text": [
      "HieroglyphDB successfully converted to HieroglyphDB.json\n"
     ]
    }
   ],
   "source": [
    "from enum import Enum\n",
    "from dataclasses import is_dataclass\n",
    "\n",
    "# with open('HieroglyphDB.pkl', 'wb') as f:\n",
    "#   pickle.dump(db, f)\n",
    "\n",
    "def enum_to_value(obj):\n",
    "  # Converts enum instances to their value\n",
    "  return obj.value if isinstance(obj, Enum) else obj\n",
    "\n",
    "def dataclass_to_dict(obj):\n",
    "  # Recursively converts dataclasses (and lists, tuples) to dict for JSON serialization\n",
    "  if is_dataclass(obj):\n",
    "    result = {}\n",
    "    for field_name in obj.__dataclass_fields__:\n",
    "      field_value = getattr(obj, field_name)\n",
    "      result[field_name] = dataclass_to_dict(field_value)\n",
    "    return result\n",
    "  elif isinstance(obj, list):\n",
    "    return [dataclass_to_dict(item) for item in obj]\n",
    "  elif isinstance(obj, tuple):\n",
    "    return tuple(dataclass_to_dict(item) for item in obj)\n",
    "  elif isinstance(obj, Enum):\n",
    "    return enum_to_value(obj)\n",
    "  else:\n",
    "    return obj\n",
    "\n",
    "# Convert to JSON-serializable dictionary\n",
    "db_dict = dataclass_to_dict(db)\n",
    "\n",
    "# Write out to JSON\n",
    "with open('HieroglyphDB1.json', 'w', encoding='utf-8') as f:\n",
    "  json.dump(db_dict, f, ensure_ascii=False, indent=2)\n",
    "\n",
    "print(\"HieroglyphDB successfully converted to HieroglyphDB.json\")"
   ]
  }
 ],
 "metadata": {
  "kernelspec": {
   "display_name": "global_venv",
   "language": "python",
   "name": "python3"
  },
  "language_info": {
   "codemirror_mode": {
    "name": "ipython",
    "version": 3
   },
   "file_extension": ".py",
   "mimetype": "text/x-python",
   "name": "python",
   "nbconvert_exporter": "python",
   "pygments_lexer": "ipython3",
   "version": "3.9.6"
  }
 },
 "nbformat": 4,
 "nbformat_minor": 2
}
