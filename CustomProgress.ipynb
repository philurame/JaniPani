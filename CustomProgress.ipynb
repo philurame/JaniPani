{
 "cells": [
  {
   "cell_type": "markdown",
   "metadata": {},
   "source": [
    "# How to Use\n",
    "\n",
    "Modify the dictionary below and run the cell.\n",
    "\n",
    "The dictionaries `radical`, `kanji`, and `vocab` contain entries in the format `hieroglyph_level: progress_level`, where:\n",
    "\n",
    "- **hieroglyph_level**: An integer from 1 to 60.\n",
    "- **progress_level**: An integer from -1 to 9, with the following meanings:\n",
    "\n",
    "  - `-1` -> Not Learned\n",
    "  - `0`  -> Apprentice 0\n",
    "  - `1`  -> Apprentice 1\n",
    "  - `2`  -> Apprentice 2\n",
    "  - `3`  -> Apprentice 3\n",
    "  - `4`  -> Apprentice 4\n",
    "  - `5`  -> Guru 1\n",
    "  - `6`  -> Guru 2\n",
    "  - `7`  -> Master\n",
    "  - `8`  -> Enlightened\n",
    "  - `9`  -> Burned\n",
    "\n",
    "When done, `Load` your `JaniPaniProgress.json` into the [JaniPani](https://philurame.github.io/JaniPani)"
   ]
  },
  {
   "cell_type": "code",
   "execution_count": 1,
   "metadata": {},
   "outputs": [],
   "source": [
    "# modify this dict and run\n",
    "my_levels_progress = dict(\n",
    "  radical = {\n",
    "    # level: progress\n",
    "    1: 8,\n",
    "    2: 8,\n",
    "    3: 8,\n",
    "    4: 8,\n",
    "    5: 6\n",
    "  },\n",
    "  kanji = {\n",
    "    # level: progress\n",
    "    1: 8,\n",
    "    2: 8,\n",
    "    3: 8,\n",
    "    4: 7,\n",
    "  },\n",
    "  vocab = {\n",
    "    # level: progress\n",
    "    1: 8,\n",
    "    2: 8,\n",
    "    3: 8,\n",
    "    4: 7,\n",
    "  }\n",
    ")\n",
    "\n",
    "# saves it to 'JaniPaniProgress.json'\n",
    "from extras.utils import *\n",
    "save_progress(my_levels_progress, save_to='./JaniPaniProgress.json')"
   ]
  }
 ],
 "metadata": {
  "kernelspec": {
   "display_name": "global_venv",
   "language": "python",
   "name": "python3"
  },
  "language_info": {
   "codemirror_mode": {
    "name": "ipython",
    "version": 3
   },
   "file_extension": ".py",
   "mimetype": "text/x-python",
   "name": "python",
   "nbconvert_exporter": "python",
   "pygments_lexer": "ipython3",
   "version": "3.9.6"
  }
 },
 "nbformat": 4,
 "nbformat_minor": 2
}
